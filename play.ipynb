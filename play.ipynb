{
 "cells": [
  {
   "cell_type": "markdown",
   "metadata": {},
   "source": [
    "#hunter-mouse"
   ]
  },
  {
   "cell_type": "raw",
   "metadata": {},
   "source": [
    "it is not as expected, but I just made python to play as it in the task and to force probability convergion -used 1M attempts"
   ]
  },
  {
   "cell_type": "code",
   "execution_count": 29,
   "metadata": {},
   "outputs": [
    {
     "name": "stdout",
     "output_type": "stream",
     "text": [
      "0.387453\n",
      "0.612547\n"
     ]
    }
   ],
   "source": [
    "import random\n",
    "\n",
    "hunter_score=0\n",
    "mouse_score=0\n",
    "\n",
    "def play():\n",
    "    hunter=1\n",
    "    mouse=7\n",
    "    p=1\n",
    "    winner=-1\n",
    "    while p==1:\n",
    "        d=random.randint(1,6)\n",
    "        if d<5:\n",
    "            mouse=mouse+d\n",
    "        else:\n",
    "            hunter=hunter+d\n",
    "        if mouse>11:\n",
    "            p=0\n",
    "            winner=0 \n",
    "        if (hunter>=mouse):\n",
    "            p=0\n",
    "            winner=1\n",
    "    return winner\n",
    "            \n",
    "r=1000000\n",
    "for plays in range (r):\n",
    "    if play()==1:\n",
    "        hunter_score=hunter_score+1\n",
    "    else:\n",
    "        mouse_score=mouse_score+1\n",
    "\n",
    "print (hunter_score/r)\n",
    "print (mouse_score/r)"
   ]
  },
  {
   "cell_type": "raw",
   "metadata": {},
   "source": [
    "Thoughts how to adress problem from the side of theory of probablity:\n",
    "    1. recursively clculate probability of winning/loosing in each state taking into account probability of next event (trowing of dice)\n",
    "    2. somehow use bernoulli equation to calculate expected outcome (issue that events are actually depends on each other)\n",
    "    3. use bayesian conditional propability (just a thought, don't know how to implement)"
   ]
  }
 ],
 "metadata": {
  "kernelspec": {
   "display_name": "Python 3",
   "language": "python",
   "name": "python3"
  },
  "language_info": {
   "codemirror_mode": {
    "name": "ipython",
    "version": 3
   },
   "file_extension": ".py",
   "mimetype": "text/x-python",
   "name": "python",
   "nbconvert_exporter": "python",
   "pygments_lexer": "ipython3",
   "version": "3.7.1"
  }
 },
 "nbformat": 4,
 "nbformat_minor": 2
}
