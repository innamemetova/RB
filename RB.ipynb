{
 "cells": [
  {
   "cell_type": "markdown",
   "metadata": {},
   "source": [
    "# Goal and data import"
   ]
  },
  {
   "cell_type": "raw",
   "metadata": {},
   "source": [
    "Goal: predict gender of TV viewers based on set of characteristics (time spend on watching 40 different TV genres of and some info about devices)\n",
    "\n",
    "Input data: 2K observations for training (includes gender) and K observation for test (gender is missing and is target for prediction)\n",
    "\n",
    "Variables: 40 numeric variables and 5 categorical {-1;0;1}\n",
    "\n",
    "Missing values: there are no missing values in the training/test dataset\n",
    "\n",
    "Balanced/unbalanced dataset: training data set is quite balanced\n",
    "\n",
    "Outliers – not observed"
   ]
  },
  {
   "cell_type": "code",
   "execution_count": 23,
   "metadata": {},
   "outputs": [
    {
     "name": "stdout",
     "output_type": "stream",
     "text": [
      "Gender    0\n",
      "x1        0\n",
      "x2        0\n",
      "x3        0\n",
      "x4        0\n",
      "x5        0\n",
      "x6        0\n",
      "x7        0\n",
      "x8        0\n",
      "x9        0\n",
      "x10       0\n",
      "x11       0\n",
      "x12       0\n",
      "x13       0\n",
      "x14       0\n",
      "x15       0\n",
      "x16       0\n",
      "x17       0\n",
      "x18       0\n",
      "x19       0\n",
      "x20       0\n",
      "x21       0\n",
      "x22       0\n",
      "x23       0\n",
      "x24       0\n",
      "x25       0\n",
      "x26       0\n",
      "x27       0\n",
      "x28       0\n",
      "x29       0\n",
      "x30       0\n",
      "x31       0\n",
      "x32       0\n",
      "x33       0\n",
      "x34       0\n",
      "x35       0\n",
      "x36       0\n",
      "x37       0\n",
      "x38       0\n",
      "x39       0\n",
      "x40       0\n",
      "x41       0\n",
      "x42       0\n",
      "x43       0\n",
      "x44       0\n",
      "x45       0\n",
      "dtype: int64\n",
      "            Gender           x1           x2           x3           x4  \\\n",
      "count  2000.000000  2000.000000  2000.000000  2000.000000  2000.000000   \n",
      "mean      0.465500     5.034083     5.018200     4.911232     4.912412   \n",
      "std       0.498933     2.909781     2.889966     2.871402     2.925843   \n",
      "min       0.000000     0.001557     0.006796     0.004259     0.006314   \n",
      "25%       0.000000     2.460645     2.535577     2.503660     2.323453   \n",
      "50%       0.000000     5.059938     5.024768     4.805803     4.806753   \n",
      "75%       1.000000     7.560343     7.571328     7.398937     7.513002   \n",
      "max       1.000000     9.997439     9.998735     9.998568     9.991082   \n",
      "\n",
      "                x5           x6           x7           x8           x9  \\\n",
      "count  2000.000000  2000.000000  2000.000000  2000.000000  2000.000000   \n",
      "mean      4.956377     5.024579     4.935966     5.067840     5.086828   \n",
      "std       2.897600     2.913924     2.921489     2.833147     2.850428   \n",
      "min       0.009633     0.002398     0.003581     0.002622     0.008044   \n",
      "25%       2.471000     2.495113     2.334584     2.576546     2.600456   \n",
      "50%       4.924308     5.020893     4.964938     5.193205     5.201639   \n",
      "75%       7.496324     7.484141     7.527601     7.497030     7.510152   \n",
      "max       9.990208     9.997379     9.999543     9.997743     9.996769   \n",
      "\n",
      "          ...               x36          x37          x38          x39  \\\n",
      "count     ...       2000.000000  2000.000000  2000.000000  2000.000000   \n",
      "mean      ...          4.984694     4.908684     4.868374     4.995217   \n",
      "std       ...          2.931335     2.848105     2.852245     2.911902   \n",
      "min       ...          0.002803     0.000178     0.006052     0.000361   \n",
      "25%       ...          2.426546     2.494812     2.383270     2.489068   \n",
      "50%       ...          5.042467     4.883605     4.776674     5.024223   \n",
      "75%       ...          7.540748     7.327315     7.278360     7.612702   \n",
      "max       ...          9.999721     9.998322     9.987979     9.997630   \n",
      "\n",
      "               x40          x41         x42          x43          x44  \\\n",
      "count  2000.000000  2000.000000  2000.00000  2000.000000  2000.000000   \n",
      "mean      5.165625    -0.026000    -0.00750    -0.016000     0.032000   \n",
      "std       2.803282     0.817715     0.82449     0.814295     0.808271   \n",
      "min       0.002939    -1.000000    -1.00000    -1.000000    -1.000000   \n",
      "25%       2.798774    -1.000000    -1.00000    -1.000000    -1.000000   \n",
      "50%       5.159642     0.000000     0.00000     0.000000     0.000000   \n",
      "75%       7.596508     1.000000     1.00000     1.000000     1.000000   \n",
      "max       9.987218     1.000000     1.00000     1.000000     1.000000   \n",
      "\n",
      "               x45  \n",
      "count  2000.000000  \n",
      "mean      0.012500  \n",
      "std       0.812203  \n",
      "min      -1.000000  \n",
      "25%      -1.000000  \n",
      "50%       0.000000  \n",
      "75%       1.000000  \n",
      "max       1.000000  \n",
      "\n",
      "[8 rows x 46 columns]\n"
     ]
    }
   ],
   "source": [
    "import pandas as pd\n",
    "\n",
    "from pandas import ExcelWriter\n",
    "from pandas import ExcelFile\n",
    "import seaborn as sns\n",
    "import os\n",
    "import warnings\n",
    "warnings.filterwarnings(\"ignore\", category=FutureWarning)\n",
    "\n",
    "#set directory\n",
    "os.chdir('C:\\\\Users\\\\Inna\\\\Desktop\\\\pydata')\n",
    "\n",
    "#read xlsx\n",
    "df = pd.read_excel('Data_RB_Case_Study.xlsx', sheetname='Train')\n",
    "print (df.isnull().sum()) #no missing values\n",
    "print(df.describe()) #no outliers\n"
   ]
  },
  {
   "cell_type": "code",
   "execution_count": 24,
   "metadata": {},
   "outputs": [
    {
     "data": {
      "text/plain": [
       "<matplotlib.axes._subplots.AxesSubplot at 0x288d643e550>"
      ]
     },
     "execution_count": 24,
     "metadata": {},
     "output_type": "execute_result"
    },
    {
     "data": {
      "image/png": "[encoded data removed]",
      "text/plain": [
       "<Figure size 432x288 with 1 Axes>"
      ]
     },
     "metadata": {
      "needs_background": "light"
     },
     "output_type": "display_data"
    }
   ],
   "source": [
    "#gender distribution\n",
    "sns.countplot(x='Gender', data=df, color=\"teal\")"
   ]
  },
  {
   "cell_type": "markdown",
   "metadata": {},
   "source": [
    "# Variable selection"
   ]
  },
  {
   "cell_type": "raw",
   "metadata": {},
   "source": [
    "Potential overfitting problem – too many variables for provided dataset. 50 variables (40 as time per genre+10 comes as dummy) and only 2000 obs.\n",
    "\n",
    "Several approaches to select/reduce number of variables:\n",
    "\n",
    "Filtering (using heatmap of Pearson correlations to select most correlated variables)\n",
    "Recursive feature elimination – build a lot of models and add/remove feature step by step to select most important variables\n",
    "Embedded (Lasso regression) – set penalties for coefficients and optimize them with penalty parameter abs(lambda)\n",
    "PCA – reduce dimensions of sample"
   ]
  },
  {
   "cell_type": "code",
   "execution_count": 20,
   "metadata": {},
   "outputs": [
    {
     "data": {
      "text/plain": [
       "<matplotlib.axes._subplots.AxesSubplot at 0x22a7fae0ba8>"
      ]
     },
     "execution_count": 20,
     "metadata": {},
     "output_type": "execute_result"
    },
    {
     "data": {
      "image/png": "[encoded data removed]",
      "text/plain": [
       "<Figure size 432x288 with 1 Axes>"
      ]
     },
     "metadata": {
      "needs_background": "light"
     },
     "output_type": "display_data"
    }
   ],
   "source": [
    "sns.barplot('x44', 'Gender', data=df, color=\"teal\") #var 44 doesn't capture gender\n"
   ]
  },
  {
   "cell_type": "code",
   "execution_count": 21,
   "metadata": {},
   "outputs": [
    {
     "data": {
      "text/plain": [
       "<matplotlib.axes._subplots.AxesSubplot at 0x22a7f99c518>"
      ]
     },
     "execution_count": 21,
     "metadata": {},
     "output_type": "execute_result"
    },
    {
     "data": {
      "image/png": "[encoded data removed]",
      "text/plain": [
       "<Figure size 432x288 with 1 Axes>"
      ]
     },
     "metadata": {
      "needs_background": "light"
     },
     "output_type": "display_data"
    }
   ],
   "source": [
    "sns.barplot('x43', 'Gender', data=df, color=\"teal\") #var 43 varies depending on gender -will consider variable below\n"
   ]
  },
  {
   "cell_type": "code",
   "execution_count": 22,
   "metadata": {},
   "outputs": [
    {
     "data": {
      "text/plain": [
       "<matplotlib.axes._subplots.AxesSubplot at 0x22a7f9f0d30>"
      ]
     },
     "execution_count": 22,
     "metadata": {},
     "output_type": "execute_result"
    },
    {
     "data": {
      "image/png": "[encoded data removed]",
      "text/plain": [
       "<Figure size 432x288 with 1 Axes>"
      ]
     },
     "metadata": {
      "needs_background": "light"
     },
     "output_type": "display_data"
    }
   ],
   "source": [
    "sns.barplot('x42', 'Gender', data=df, color=\"teal\") #the same as x44"
   ]
  },
  {
   "cell_type": "code",
   "execution_count": 22,
   "metadata": {},
   "outputs": [
    {
     "data": {
      "text/plain": [
       "<matplotlib.axes._subplots.AxesSubplot at 0x288d0df9668>"
      ]
     },
     "execution_count": 22,
     "metadata": {},
     "output_type": "execute_result"
    },
    {
     "data": {
      "image/png": "[encoded data removed]",
      "text/plain": [
       "<Figure size 432x288 with 1 Axes>"
      ]
     },
     "metadata": {
      "needs_background": "light"
     },
     "output_type": "display_data"
    }
   ],
   "source": [
    "sns.barplot('x45', 'Gender', data=df, color=\"teal\")  #the same as x44"
   ]
  },
  {
   "cell_type": "markdown",
   "metadata": {},
   "source": [
    "# Lasso Regression"
   ]
  },
  {
   "cell_type": "code",
   "execution_count": 25,
   "metadata": {},
   "outputs": [
    {
     "data": {
      "text/html": [
       "<div>\n",
       "<style scoped>\n",
       "    .dataframe tbody tr th:only-of-type {\n",
       "        vertical-align: middle;\n",
       "    }\n",
       "\n",
       "    .dataframe tbody tr th {\n",
       "        vertical-align: top;\n",
       "    }\n",
       "\n",
       "    .dataframe thead th {\n",
       "        text-align: right;\n",
       "    }\n",
       "</style>\n",
       "<table border=\"1\" class=\"dataframe\">\n",
       "  <thead>\n",
       "    <tr style=\"text-align: right;\">\n",
       "      <th></th>\n",
       "      <th>x1</th>\n",
       "      <th>x2</th>\n",
       "      <th>x3</th>\n",
       "      <th>x4</th>\n",
       "      <th>x5</th>\n",
       "      <th>x6</th>\n",
       "      <th>x7</th>\n",
       "      <th>x8</th>\n",
       "      <th>x9</th>\n",
       "      <th>x10</th>\n",
       "      <th>...</th>\n",
       "      <th>x33</th>\n",
       "      <th>x34</th>\n",
       "      <th>x35</th>\n",
       "      <th>x36</th>\n",
       "      <th>x37</th>\n",
       "      <th>x38</th>\n",
       "      <th>x39</th>\n",
       "      <th>x40</th>\n",
       "      <th>x43_0</th>\n",
       "      <th>x43_1</th>\n",
       "    </tr>\n",
       "  </thead>\n",
       "  <tbody>\n",
       "    <tr>\n",
       "      <th>count</th>\n",
       "      <td>2000.000000</td>\n",
       "      <td>2000.000000</td>\n",
       "      <td>2000.000000</td>\n",
       "      <td>2000.000000</td>\n",
       "      <td>2000.000000</td>\n",
       "      <td>2000.000000</td>\n",
       "      <td>2000.000000</td>\n",
       "      <td>2000.000000</td>\n",
       "      <td>2000.000000</td>\n",
       "      <td>2000.000000</td>\n",
       "      <td>...</td>\n",
       "      <td>2000.000000</td>\n",
       "      <td>2000.000000</td>\n",
       "      <td>2000.000000</td>\n",
       "      <td>2000.000000</td>\n",
       "      <td>2000.000000</td>\n",
       "      <td>2000.000000</td>\n",
       "      <td>2000.000000</td>\n",
       "      <td>2000.000000</td>\n",
       "      <td>2000.000000</td>\n",
       "      <td>2000.000000</td>\n",
       "    </tr>\n",
       "    <tr>\n",
       "      <th>mean</th>\n",
       "      <td>5.034083</td>\n",
       "      <td>5.018200</td>\n",
       "      <td>4.911232</td>\n",
       "      <td>4.912412</td>\n",
       "      <td>4.956377</td>\n",
       "      <td>5.024579</td>\n",
       "      <td>4.935966</td>\n",
       "      <td>5.067840</td>\n",
       "      <td>5.086828</td>\n",
       "      <td>5.010133</td>\n",
       "      <td>...</td>\n",
       "      <td>4.988960</td>\n",
       "      <td>4.988325</td>\n",
       "      <td>4.985159</td>\n",
       "      <td>4.984694</td>\n",
       "      <td>4.908684</td>\n",
       "      <td>4.868374</td>\n",
       "      <td>4.995217</td>\n",
       "      <td>5.165625</td>\n",
       "      <td>0.337000</td>\n",
       "      <td>0.323500</td>\n",
       "    </tr>\n",
       "    <tr>\n",
       "      <th>std</th>\n",
       "      <td>2.909781</td>\n",
       "      <td>2.889966</td>\n",
       "      <td>2.871402</td>\n",
       "      <td>2.925843</td>\n",
       "      <td>2.897600</td>\n",
       "      <td>2.913924</td>\n",
       "      <td>2.921489</td>\n",
       "      <td>2.833147</td>\n",
       "      <td>2.850428</td>\n",
       "      <td>2.911342</td>\n",
       "      <td>...</td>\n",
       "      <td>2.850379</td>\n",
       "      <td>2.853574</td>\n",
       "      <td>2.906113</td>\n",
       "      <td>2.931335</td>\n",
       "      <td>2.848105</td>\n",
       "      <td>2.852245</td>\n",
       "      <td>2.911902</td>\n",
       "      <td>2.803282</td>\n",
       "      <td>0.472803</td>\n",
       "      <td>0.467929</td>\n",
       "    </tr>\n",
       "    <tr>\n",
       "      <th>min</th>\n",
       "      <td>0.001557</td>\n",
       "      <td>0.006796</td>\n",
       "      <td>0.004259</td>\n",
       "      <td>0.006314</td>\n",
       "      <td>0.009633</td>\n",
       "      <td>0.002398</td>\n",
       "      <td>0.003581</td>\n",
       "      <td>0.002622</td>\n",
       "      <td>0.008044</td>\n",
       "      <td>0.001992</td>\n",
       "      <td>...</td>\n",
       "      <td>0.000834</td>\n",
       "      <td>0.009028</td>\n",
       "      <td>0.005836</td>\n",
       "      <td>0.002803</td>\n",
       "      <td>0.000178</td>\n",
       "      <td>0.006052</td>\n",
       "      <td>0.000361</td>\n",
       "      <td>0.002939</td>\n",
       "      <td>0.000000</td>\n",
       "      <td>0.000000</td>\n",
       "    </tr>\n",
       "    <tr>\n",
       "      <th>25%</th>\n",
       "      <td>2.460645</td>\n",
       "      <td>2.535577</td>\n",
       "      <td>2.503660</td>\n",
       "      <td>2.323453</td>\n",
       "      <td>2.471000</td>\n",
       "      <td>2.495113</td>\n",
       "      <td>2.334584</td>\n",
       "      <td>2.576546</td>\n",
       "      <td>2.600456</td>\n",
       "      <td>2.559807</td>\n",
       "      <td>...</td>\n",
       "      <td>2.634839</td>\n",
       "      <td>2.468765</td>\n",
       "      <td>2.533647</td>\n",
       "      <td>2.426546</td>\n",
       "      <td>2.494812</td>\n",
       "      <td>2.383270</td>\n",
       "      <td>2.489068</td>\n",
       "      <td>2.798774</td>\n",
       "      <td>0.000000</td>\n",
       "      <td>0.000000</td>\n",
       "    </tr>\n",
       "    <tr>\n",
       "      <th>50%</th>\n",
       "      <td>5.059938</td>\n",
       "      <td>5.024768</td>\n",
       "      <td>4.805803</td>\n",
       "      <td>4.806753</td>\n",
       "      <td>4.924308</td>\n",
       "      <td>5.020893</td>\n",
       "      <td>4.964938</td>\n",
       "      <td>5.193205</td>\n",
       "      <td>5.201639</td>\n",
       "      <td>4.975510</td>\n",
       "      <td>...</td>\n",
       "      <td>4.925258</td>\n",
       "      <td>4.936059</td>\n",
       "      <td>4.978506</td>\n",
       "      <td>5.042467</td>\n",
       "      <td>4.883605</td>\n",
       "      <td>4.776674</td>\n",
       "      <td>5.024223</td>\n",
       "      <td>5.159642</td>\n",
       "      <td>0.000000</td>\n",
       "      <td>0.000000</td>\n",
       "    </tr>\n",
       "    <tr>\n",
       "      <th>75%</th>\n",
       "      <td>7.560343</td>\n",
       "      <td>7.571328</td>\n",
       "      <td>7.398937</td>\n",
       "      <td>7.513002</td>\n",
       "      <td>7.496324</td>\n",
       "      <td>7.484141</td>\n",
       "      <td>7.527601</td>\n",
       "      <td>7.497030</td>\n",
       "      <td>7.510152</td>\n",
       "      <td>7.602192</td>\n",
       "      <td>...</td>\n",
       "      <td>7.368070</td>\n",
       "      <td>7.360427</td>\n",
       "      <td>7.509905</td>\n",
       "      <td>7.540748</td>\n",
       "      <td>7.327315</td>\n",
       "      <td>7.278360</td>\n",
       "      <td>7.612702</td>\n",
       "      <td>7.596508</td>\n",
       "      <td>1.000000</td>\n",
       "      <td>1.000000</td>\n",
       "    </tr>\n",
       "    <tr>\n",
       "      <th>max</th>\n",
       "      <td>9.997439</td>\n",
       "      <td>9.998735</td>\n",
       "      <td>9.998568</td>\n",
       "      <td>9.991082</td>\n",
       "      <td>9.990208</td>\n",
       "      <td>9.997379</td>\n",
       "      <td>9.999543</td>\n",
       "      <td>9.997743</td>\n",
       "      <td>9.996769</td>\n",
       "      <td>9.993926</td>\n",
       "      <td>...</td>\n",
       "      <td>9.998607</td>\n",
       "      <td>9.999401</td>\n",
       "      <td>9.993760</td>\n",
       "      <td>9.999721</td>\n",
       "      <td>9.998322</td>\n",
       "      <td>9.987979</td>\n",
       "      <td>9.997630</td>\n",
       "      <td>9.987218</td>\n",
       "      <td>1.000000</td>\n",
       "      <td>1.000000</td>\n",
       "    </tr>\n",
       "  </tbody>\n",
       "</table>\n",
       "<p>8 rows × 42 columns</p>\n",
       "</div>"
      ],
      "text/plain": [
       "                x1           x2           x3           x4           x5  \\\n",
       "count  2000.000000  2000.000000  2000.000000  2000.000000  2000.000000   \n",
       "mean      5.034083     5.018200     4.911232     4.912412     4.956377   \n",
       "std       2.909781     2.889966     2.871402     2.925843     2.897600   \n",
       "min       0.001557     0.006796     0.004259     0.006314     0.009633   \n",
       "25%       2.460645     2.535577     2.503660     2.323453     2.471000   \n",
       "50%       5.059938     5.024768     4.805803     4.806753     4.924308   \n",
       "75%       7.560343     7.571328     7.398937     7.513002     7.496324   \n",
       "max       9.997439     9.998735     9.998568     9.991082     9.990208   \n",
       "\n",
       "                x6           x7           x8           x9          x10  \\\n",
       "count  2000.000000  2000.000000  2000.000000  2000.000000  2000.000000   \n",
       "mean      5.024579     4.935966     5.067840     5.086828     5.010133   \n",
       "std       2.913924     2.921489     2.833147     2.850428     2.911342   \n",
       "min       0.002398     0.003581     0.002622     0.008044     0.001992   \n",
       "25%       2.495113     2.334584     2.576546     2.600456     2.559807   \n",
       "50%       5.020893     4.964938     5.193205     5.201639     4.975510   \n",
       "75%       7.484141     7.527601     7.497030     7.510152     7.602192   \n",
       "max       9.997379     9.999543     9.997743     9.996769     9.993926   \n",
       "\n",
       "          ...               x33          x34          x35          x36  \\\n",
       "count     ...       2000.000000  2000.000000  2000.000000  2000.000000   \n",
       "mean      ...          4.988960     4.988325     4.985159     4.984694   \n",
       "std       ...          2.850379     2.853574     2.906113     2.931335   \n",
       "min       ...          0.000834     0.009028     0.005836     0.002803   \n",
       "25%       ...          2.634839     2.468765     2.533647     2.426546   \n",
       "50%       ...          4.925258     4.936059     4.978506     5.042467   \n",
       "75%       ...          7.368070     7.360427     7.509905     7.540748   \n",
       "max       ...          9.998607     9.999401     9.993760     9.999721   \n",
       "\n",
       "               x37          x38          x39          x40        x43_0  \\\n",
       "count  2000.000000  2000.000000  2000.000000  2000.000000  2000.000000   \n",
       "mean      4.908684     4.868374     4.995217     5.165625     0.337000   \n",
       "std       2.848105     2.852245     2.911902     2.803282     0.472803   \n",
       "min       0.000178     0.006052     0.000361     0.002939     0.000000   \n",
       "25%       2.494812     2.383270     2.489068     2.798774     0.000000   \n",
       "50%       4.883605     4.776674     5.024223     5.159642     0.000000   \n",
       "75%       7.327315     7.278360     7.612702     7.596508     1.000000   \n",
       "max       9.998322     9.987979     9.997630     9.987218     1.000000   \n",
       "\n",
       "             x43_1  \n",
       "count  2000.000000  \n",
       "mean      0.323500  \n",
       "std       0.467929  \n",
       "min       0.000000  \n",
       "25%       0.000000  \n",
       "50%       0.000000  \n",
       "75%       1.000000  \n",
       "max       1.000000  \n",
       "\n",
       "[8 rows x 42 columns]"
      ]
     },
     "execution_count": 25,
     "metadata": {},
     "output_type": "execute_result"
    }
   ],
   "source": [
    "from sklearn.model_selection import train_test_split, cross_val_score\n",
    "\n",
    "X=df.copy()\n",
    "\n",
    "#drop dependent variable and categorical ones as described above\n",
    "X.drop(['Gender'], axis=1, inplace=True)\n",
    "X.drop(['x41'], axis=1, inplace=True)\n",
    "X.drop(['x42'], axis=1, inplace=True)\n",
    "X.drop(['x44'], axis=1, inplace=True)\n",
    "X.drop(['x45'], axis=1, inplace=True)\n",
    "X=pd.get_dummies(X, columns=['x43'])\n",
    "X.drop(['x43_-1'], axis=1, inplace=True)\n",
    "y = df['Gender']\n",
    "#copy X for recursive feature elimination\n",
    "X_rfe=X.copy()\n",
    "\n",
    "#split on subsets\n",
    "X_train, X_test, y_train, y_test = train_test_split(X, y, test_size=0.3, random_state=2)\n",
    "\n",
    "#check if everything is fine\n",
    "X.describe()"
   ]
  },
  {
   "cell_type": "code",
   "execution_count": 26,
   "metadata": {},
   "outputs": [
    {
     "name": "stdout",
     "output_type": "stream",
     "text": [
      "0.000337764364541264\n",
      "x1       0.000000\n",
      "x2      -0.000000\n",
      "x3       0.035548\n",
      "x4      -0.000000\n",
      "x5       0.000000\n",
      "x6       0.000000\n",
      "x7       0.000000\n",
      "x8      -0.000000\n",
      "x9       0.001220\n",
      "x10     -0.000000\n",
      "x11     -0.000000\n",
      "x12     -0.027718\n",
      "x13      0.000000\n",
      "x14      0.000733\n",
      "x15     -0.000000\n",
      "x16      0.000000\n",
      "x17      0.000000\n",
      "x18      0.002563\n",
      "x19     -0.000000\n",
      "x20     -0.000000\n",
      "x21     -0.030908\n",
      "x22      0.000000\n",
      "x23      0.000000\n",
      "x24     -0.000000\n",
      "x25     -0.000000\n",
      "x26      0.000000\n",
      "x27     -0.000000\n",
      "x28      0.000000\n",
      "x29     -0.000000\n",
      "x30     -0.000000\n",
      "x31      0.000000\n",
      "x32      0.000000\n",
      "x33     -0.000000\n",
      "x34      0.000000\n",
      "x35     -0.000000\n",
      "x36      0.000000\n",
      "x37     -0.000000\n",
      "x38      0.000281\n",
      "x39     -0.000000\n",
      "x40     -0.000000\n",
      "x43_0    0.105591\n",
      "x43_1    0.309550\n",
      "dtype: float64\n"
     ]
    },
    {
     "data": {
      "text/plain": [
       "0.4280880412075506"
      ]
     },
     "execution_count": 26,
     "metadata": {},
     "output_type": "execute_result"
    }
   ],
   "source": [
    "from sklearn.linear_model import Ridge, RidgeCV, Lasso, LassoCV\n",
    "from sklearn.metrics import mean_squared_error\n",
    "lassocv = LassoCV(alphas = None, cv = 10, max_iter = 100000, normalize = True)\n",
    "lassocv.fit(X_train, y_train)\n",
    "\n",
    "print(lassocv.alpha_)\n",
    "\n",
    "lasso = Lasso(max_iter = 10000, normalize = True)\n",
    "lasso.set_params(alpha=lassocv.alpha_)\n",
    "lasso.fit(X_train, y_train)\n",
    "mean_squared_error(y_test, lasso.predict(X_test))\n",
    "\n",
    "lasso.fit(X, y)\n",
    "print(pd.Series(lasso.coef_, index = X.columns))\n",
    "lasso.intercept_"
   ]
  },
  {
   "cell_type": "markdown",
   "metadata": {},
   "source": [
    "# Logit with Lasso variables"
   ]
  },
  {
   "cell_type": "code",
   "execution_count": 27,
   "metadata": {},
   "outputs": [
    {
     "name": "stdout",
     "output_type": "stream",
     "text": [
      "Test split results:\n",
      "Coefficient Values Of The Surface Are: \n",
      "\n",
      "       x43_0     x43_1       x38       x21       x18       x14       x12  \\\n",
      "0  0.767395  1.958576  0.028076 -0.189053  0.031119  0.022651 -0.186383   \n",
      "\n",
      "         x9        x3  intercept  \n",
      "0  0.028044  0.234555  -0.882763  \n",
      "LogisticRegression accuracy is 0.667\n",
      "LogisticRegression precision is 0.667\n",
      "LogisticRegression recall is 0.587\n",
      "LogisticRegression auc is 0.745\n"
     ]
    }
   ],
   "source": [
    "#non-zero variables\n",
    "Selected_features = ['x43_0','x43_1','x38','x21','x18','x14','x12','x9','x3']\n",
    "\n",
    "from sklearn.model_selection import train_test_split, cross_val_score\n",
    "from sklearn.metrics import accuracy_score, classification_report, precision_score, recall_score, average_precision_score\n",
    "from sklearn.metrics import confusion_matrix, precision_recall_curve, roc_curve, auc, log_loss\n",
    "from sklearn.linear_model import LogisticRegression\n",
    "\n",
    "\n",
    "# select only important variables\n",
    "X_l = X[Selected_features]\n",
    "\n",
    "#split on train/test\n",
    "X_train, X_test, y_train, y_test = train_test_split(X_l, y, test_size=0.3, random_state=2)\n",
    "\n",
    "# build logit\n",
    "logreg = LogisticRegression()\n",
    "logreg.fit(X_train, y_train)\n",
    "y_pred = logreg.predict(X_test)\n",
    "y_pred_proba = logreg.predict_proba(X_test)[:, 1]\n",
    "[fpr, tpr, thr] = roc_curve(y_test, y_pred_proba)\n",
    "colum_label = list(X_train.columns)\n",
    "model_Coeff = pd.DataFrame(logreg.coef_, columns = colum_label)\n",
    "model_Coeff['intercept'] = logreg.intercept_\n",
    "\n",
    "# results\n",
    "print('Test split results:')\n",
    "\n",
    "print(\"Coefficient Values Of The Surface Are: \\n\\n\", model_Coeff)\n",
    "print(logreg.__class__.__name__+\" accuracy is %2.3f\" % accuracy_score(y_test, y_pred))\n",
    "print(logreg.__class__.__name__+\" precision is %2.3f\" % precision_score(y_test, y_pred))\n",
    "print(logreg.__class__.__name__+\" recall is %2.3f\" % recall_score(y_test, y_pred))\n",
    "print(logreg.__class__.__name__+\" auc is %2.3f\" % auc(fpr, tpr))"
   ]
  },
  {
   "cell_type": "markdown",
   "metadata": {},
   "source": [
    "# Logit with Lasso (standartized)"
   ]
  },
  {
   "cell_type": "code",
   "execution_count": 31,
   "metadata": {},
   "outputs": [
    {
     "name": "stdout",
     "output_type": "stream",
     "text": [
      "Test split results:\n",
      "Coefficient Values Of The Surface Are: \n",
      "\n",
      "       x43_0     x43_1       x38       x21       x18       x14       x12  \\\n",
      "0  0.379723  0.950424  0.087366 -0.531168  0.098802  0.071424 -0.527397   \n",
      "\n",
      "         x9        x3  intercept  \n",
      "0  0.087944  0.689762  -0.186923  \n",
      "LogisticRegression accuracy is 0.670\n",
      "LogisticRegression precision is 0.672\n",
      "LogisticRegression recall is 0.587\n",
      "LogisticRegression auc is 0.745\n"
     ]
    }
   ],
   "source": [
    "import warnings\n",
    "from sklearn.exceptions import DataConversionWarning\n",
    "warnings.filterwarnings(action='ignore', category=DataConversionWarning)\n",
    "\n",
    "#the same variables from Lasso\n",
    "Selected_features = ['x43_0','x43_1','x38','x21','x18','x14','x12','x9','x3']\n",
    "\n",
    "from sklearn.model_selection import train_test_split, cross_val_score\n",
    "from sklearn.metrics import accuracy_score, classification_report, precision_score, recall_score, average_precision_score\n",
    "from sklearn.metrics import confusion_matrix, precision_recall_curve, roc_curve, auc, log_loss\n",
    "from sklearn.linear_model import LogisticRegression\n",
    "\n",
    "X_ls = X[Selected_features]\n",
    "\n",
    "X_train, X_test, y_train, y_test = train_test_split(X_ls, y, test_size=0.3, random_state=2)\n",
    "\n",
    "from sklearn import preprocessing\n",
    "#standartization\n",
    "std_scale = preprocessing.StandardScaler().fit(X_train)\n",
    "X_train_std = std_scale.transform(X_train)\n",
    "X_test_std = std_scale.transform(X_test)\n",
    "\n",
    "#build logit\n",
    "logreg = LogisticRegression()\n",
    "logreg.fit(X_train_std, y_train)\n",
    "y_pred = logreg.predict(X_test_std)\n",
    "y_pred_proba = logreg.predict_proba(X_test_std)[:, 1]\n",
    "[fpr, tpr, thr] = roc_curve(y_test, y_pred_proba)\n",
    "colum_label = list(X_train.columns)\n",
    "model_Coeff = pd.DataFrame(logreg.coef_, columns = colum_label)\n",
    "model_Coeff['intercept'] = logreg.intercept_\n",
    "\n",
    "#results\n",
    "print('Test split results:')\n",
    "\n",
    "print(\"Coefficient Values Of The Surface Are: \\n\\n\", model_Coeff)\n",
    "print(logreg.__class__.__name__+\" accuracy is %2.3f\" % accuracy_score(y_test, y_pred))\n",
    "print(logreg.__class__.__name__+\" precision is %2.3f\" % precision_score(y_test, y_pred))\n",
    "print(logreg.__class__.__name__+\" recall is %2.3f\" % recall_score(y_test, y_pred))\n",
    "print(logreg.__class__.__name__+\" auc is %2.3f\" % auc(fpr, tpr))"
   ]
  },
  {
   "cell_type": "markdown",
   "metadata": {},
   "source": [
    "# Logit with Lasso (ln variables)"
   ]
  },
  {
   "cell_type": "code",
   "execution_count": 33,
   "metadata": {},
   "outputs": [
    {
     "name": "stdout",
     "output_type": "stream",
     "text": [
      "Test split results:\n",
      "Coefficient Values Of The Surface Are: \n",
      "\n",
      "       x43_0     x43_1       x38       x21       x18      x14       x12  \\\n",
      "0  0.722856  1.850217  0.100884 -0.477309  0.104674  0.09266 -0.474005   \n",
      "\n",
      "         x9        x3  intercept  \n",
      "0  0.010732  0.515969  -0.805549  \n",
      "LogisticRegression accuracy is 0.653\n",
      "LogisticRegression precision is 0.647\n",
      "LogisticRegression recall is 0.583\n",
      "LogisticRegression auc is 0.724\n"
     ]
    }
   ],
   "source": [
    "pd.options.mode.chained_assignment = None  \n",
    "\n",
    "Selected_features = ['x43_0','x43_1','x38','x21','x18','x14','x12','x9','x3']\n",
    "\n",
    "import numpy as np\n",
    "from sklearn.model_selection import train_test_split, cross_val_score\n",
    "from sklearn.metrics import accuracy_score, classification_report, precision_score, recall_score, average_precision_score\n",
    "from sklearn.metrics import confusion_matrix, precision_recall_curve, roc_curve, auc, log_loss\n",
    "from sklearn.linear_model import LogisticRegression\n",
    "\n",
    "# create variables with ln\n",
    "X_ln = X[Selected_features]\n",
    "X_ln['x38']=np.log(X['x38']+0.000000001)\n",
    "X_ln['x21']=np.log(X['x21']+0.000000001)\n",
    "X_ln['x18']=np.log(X['x18']+0.000000001)\n",
    "X_ln['x14']=np.log(X['x14']+0.000000001)\n",
    "X_ln['x12']=np.log(X['x12']+0.000000001)\n",
    "X_ln['x9']=np.log(X['x9']+0.000000001)\n",
    "X_ln['x3']=np.log(X['x3']+0.000000001)\n",
    "\n",
    "X_train, X_test, y_train, y_test = train_test_split(X_ln, y, test_size=0.3, random_state=2)\n",
    "\n",
    "# build logit\n",
    "logreg = LogisticRegression()\n",
    "logreg.fit(X_train, y_train)\n",
    "y_pred = logreg.predict(X_test)\n",
    "y_pred_proba = logreg.predict_proba(X_test)[:, 1]\n",
    "[fpr, tpr, thr] = roc_curve(y_test, y_pred_proba)\n",
    "\n",
    "colum_label = list(X_train.columns)\n",
    "model_Coeff = pd.DataFrame(logreg.coef_, columns = colum_label)\n",
    "model_Coeff['intercept'] = logreg.intercept_\n",
    "\n",
    "#results\n",
    "print('Test split results:')\n",
    "\n",
    "print(\"Coefficient Values Of The Surface Are: \\n\\n\", model_Coeff)\n",
    "print(logreg.__class__.__name__+\" accuracy is %2.3f\" % accuracy_score(y_test, y_pred))\n",
    "print(logreg.__class__.__name__+\" precision is %2.3f\" % precision_score(y_test, y_pred))\n",
    "print(logreg.__class__.__name__+\" recall is %2.3f\" % recall_score(y_test, y_pred))\n",
    "print(logreg.__class__.__name__+\" auc is %2.3f\" % auc(fpr, tpr))"
   ]
  },
  {
   "cell_type": "markdown",
   "metadata": {},
   "source": [
    "# Recursive Feature Elimination (7-12 variables)+ Logit"
   ]
  },
  {
   "cell_type": "code",
   "execution_count": 16,
   "metadata": {},
   "outputs": [
    {
     "name": "stdout",
     "output_type": "stream",
     "text": [
      "['x3', 'x9', 'x12', 'x18', 'x21', 'x43_0', 'x43_1']\n",
      "['x3', 'x9', 'x12', 'x14', 'x18', 'x21', 'x43_0', 'x43_1']\n",
      "['x3', 'x9', 'x12', 'x14', 'x18', 'x21', 'x38', 'x43_0', 'x43_1']\n",
      "['x3', 'x9', 'x12', 'x14', 'x18', 'x20', 'x21', 'x38', 'x43_0', 'x43_1']\n",
      "['x3', 'x9', 'x11', 'x12', 'x14', 'x18', 'x20', 'x21', 'x38', 'x43_0', 'x43_1']\n"
     ]
    }
   ],
   "source": [
    "from sklearn.linear_model import LogisticRegression\n",
    "from sklearn.feature_selection import RFE\n",
    "\n",
    "\n",
    "X_r = X_rfe\n",
    "y_r = y\n",
    "\n",
    "sel=[]\n",
    "\n",
    "#select list of list important variables - from 7 to 12\n",
    "for i in range (7,12):\n",
    "    model = LogisticRegression()\n",
    "    rfe = RFE(model,i)\n",
    "    rfe = rfe.fit(X_r, y_r)\n",
    "    print(list(X.columns[rfe.support_]))\n",
    "    sel.append (list(X.columns[rfe.support_]))"
   ]
  },
  {
   "cell_type": "code",
   "execution_count": 43,
   "metadata": {},
   "outputs": [
    {
     "name": "stdout",
     "output_type": "stream",
     "text": [
      "Test split results:\n",
      "['x3', 'x9', 'x12', 'x18', 'x21', 'x43_0', 'x43_1']\n",
      "Coefficient Values Of The Surface Are: \n",
      "\n",
      "          x3        x9       x12     x18      x21     x43_0     x43_1  \\\n",
      "0  0.234198  0.028311 -0.186698  0.0313 -0.18891  0.767553  1.962431   \n",
      "\n",
      "   intercept  \n",
      "0  -0.631173  \n",
      "LogisticRegression accuracy is 0.665\n",
      "LogisticRegression precision is 0.667\n",
      "LogisticRegression recall is 0.580\n",
      "LogisticRegression auc is 0.742\n",
      "---------------------------------------------\n",
      "Test split results:\n",
      "['x3', 'x9', 'x12', 'x14', 'x18', 'x21', 'x43_0', 'x43_1']\n",
      "Coefficient Values Of The Surface Are: \n",
      "\n",
      "          x3        x9       x12       x14       x18      x21     x43_0  \\\n",
      "0  0.234489  0.027989 -0.185994  0.022246  0.030682 -0.19022  0.762308   \n",
      "\n",
      "      x43_1  intercept  \n",
      "0  1.961384  -0.735864  \n",
      "LogisticRegression accuracy is 0.660\n",
      "LogisticRegression precision is 0.657\n",
      "LogisticRegression recall is 0.583\n",
      "LogisticRegression auc is 0.744\n",
      "---------------------------------------------\n",
      "Test split results:\n",
      "['x3', 'x9', 'x12', 'x14', 'x18', 'x21', 'x38', 'x43_0', 'x43_1']\n",
      "Coefficient Values Of The Surface Are: \n",
      "\n",
      "          x3        x9       x12       x14       x18      x21       x38  \\\n",
      "0  0.234552  0.028044 -0.186377  0.022653  0.031119 -0.18905  0.028078   \n",
      "\n",
      "      x43_0     x43_1  intercept  \n",
      "0  0.767385  1.958568  -0.882801  \n",
      "LogisticRegression accuracy is 0.667\n",
      "LogisticRegression precision is 0.667\n",
      "LogisticRegression recall is 0.587\n",
      "LogisticRegression auc is 0.745\n",
      "---------------------------------------------\n",
      "Test split results:\n",
      "['x3', 'x9', 'x12', 'x14', 'x18', 'x20', 'x21', 'x38', 'x43_0', 'x43_1']\n",
      "Coefficient Values Of The Surface Are: \n",
      "\n",
      "          x3        x9       x12      x14       x18       x20       x21  \\\n",
      "0  0.234515  0.027987 -0.186249  0.02273  0.030912 -0.004792 -0.189398   \n",
      "\n",
      "        x38     x43_0     x43_1  intercept  \n",
      "0  0.028086  0.768637  1.959926  -0.857827  \n",
      "LogisticRegression accuracy is 0.670\n",
      "LogisticRegression precision is 0.671\n",
      "LogisticRegression recall is 0.590\n",
      "LogisticRegression auc is 0.745\n",
      "---------------------------------------------\n",
      "Test split results:\n",
      "['x3', 'x9', 'x11', 'x12', 'x14', 'x18', 'x20', 'x21', 'x38', 'x43_0', 'x43_1']\n",
      "Coefficient Values Of The Surface Are: \n",
      "\n",
      "          x3        x9       x11       x12       x14       x18       x20  \\\n",
      "0  0.234518  0.027488 -0.020651 -0.186596  0.021796  0.031395 -0.004951   \n",
      "\n",
      "        x21       x38     x43_0     x43_1  intercept  \n",
      "0 -0.189049  0.028861  0.770957  1.964954   -0.75521  \n",
      "LogisticRegression accuracy is 0.670\n",
      "LogisticRegression precision is 0.669\n",
      "LogisticRegression recall is 0.594\n",
      "LogisticRegression auc is 0.745\n",
      "---------------------------------------------\n"
     ]
    }
   ],
   "source": [
    "from sklearn.model_selection import train_test_split, cross_val_score\n",
    "from sklearn.metrics import accuracy_score, classification_report, precision_score, recall_score, average_precision_score\n",
    "from sklearn.metrics import confusion_matrix, precision_recall_curve, roc_curve, auc, log_loss\n",
    "\n",
    "#build logits with all selected sets of variables\n",
    "for l in sel:\n",
    "    Selected_features = l\n",
    "\n",
    "    X_rl = X_r[Selected_features]\n",
    "    y = y\n",
    "\n",
    "\n",
    "    X_train, X_test, y_train, y_test = train_test_split(X_rl, y, test_size=0.3, random_state=2)\n",
    "\n",
    "\n",
    "    logreg = LogisticRegression()\n",
    "    logreg.fit(X_train, y_train)\n",
    "    y_pred = logreg.predict(X_test)\n",
    "    y_pred_proba = logreg.predict_proba(X_test)[:, 1]\n",
    "    [fpr, tpr, thr] = roc_curve(y_test, y_pred_proba)\n",
    "    \n",
    "    colum_label = list(X_train.columns)\n",
    "    model_Coeff = pd.DataFrame(logreg.coef_, columns = colum_label)\n",
    "    model_Coeff['intercept'] = logreg.intercept_\n",
    "\n",
    "    print('Test split results:')\n",
    "    print (l)\n",
    "    print(\"Coefficient Values Of The Surface Are: \\n\\n\", model_Coeff)\n",
    "    print(logreg.__class__.__name__+\" accuracy is %2.3f\" % accuracy_score(y_test, y_pred))\n",
    "    print(logreg.__class__.__name__+\" precision is %2.3f\" % precision_score(y_test, y_pred))\n",
    "    print(logreg.__class__.__name__+\" recall is %2.3f\" % recall_score(y_test, y_pred))\n",
    "    print(logreg.__class__.__name__+\" auc is %2.3f\" % auc(fpr, tpr))\n",
    "    print (\"---------------------------------------------\")"
   ]
  },
  {
   "cell_type": "markdown",
   "metadata": {},
   "source": [
    "# Random Forest+Lasso"
   ]
  },
  {
   "cell_type": "code",
   "execution_count": 38,
   "metadata": {},
   "outputs": [
    {
     "name": "stdout",
     "output_type": "stream",
     "text": [
      "Accuracy: 0.6316666666666667\n"
     ]
    }
   ],
   "source": [
    "from sklearn.ensemble import RandomForestClassifier\n",
    "\n",
    "Selected_features = ['x43_0','x43_1','x38','x21','x18','x14','x12','x9','x3']\n",
    "X_f=X[Selected_features]\n",
    "\n",
    "X_train, X_test, y_train, y_test = train_test_split(X_f, y, test_size=0.3, random_state=2)\n",
    "\n",
    "#Create a Gaussian Classifier\n",
    "clf=RandomForestClassifier(n_estimators=1000)\n",
    "\n",
    "clf.fit(X_train,y_train)\n",
    "\n",
    "\n",
    "y_pred=clf.predict(X_test)\n",
    "\n",
    "\n",
    "from sklearn import metrics\n",
    "\n",
    "print(\"Accuracy:\",metrics.accuracy_score(y_test, y_pred))"
   ]
  },
  {
   "cell_type": "markdown",
   "metadata": {},
   "source": [
    "# Naive Bayes+PCA"
   ]
  },
  {
   "cell_type": "code",
   "execution_count": 39,
   "metadata": {},
   "outputs": [],
   "source": [
    "\n",
    "from sklearn import preprocessing\n",
    "\n",
    "Selected_features = ['x43_0','x43_1','x38','x21','x18','x14','x12','x9','x3']\n",
    "X_n=X[Selected_features]\n",
    "\n",
    "X_train, X_test, y_train, y_test = train_test_split(X_n, y, test_size=0.3, random_state=2)\n",
    "\n",
    "std_scale = preprocessing.StandardScaler().fit(X_train)\n",
    "X_train_std = std_scale.transform(X_train)\n",
    "X_test_std = std_scale.transform(X_test)\n",
    "\n",
    "from sklearn.decomposition import PCA\n",
    "\n",
    "# on non-standardized data\n",
    "pca = PCA(n_components=2).fit(X_train)\n",
    "X_train = pca.transform(X_train)\n",
    "X_test = pca.transform(X_test)\n",
    "\n",
    "\n",
    "# om standardized data\n",
    "pca_std = PCA(n_components=2).fit(X_train_std)\n",
    "X_train_std = pca_std.transform(X_train_std)\n",
    "X_test_std = pca_std.transform(X_test_std)\n",
    "\n",
    "\n",
    "from sklearn.naive_bayes import GaussianNB\n",
    "\n",
    "# on non-standardized data\n",
    "gnb = GaussianNB()\n",
    "fit = gnb.fit(X_train, y_train)\n",
    "\n",
    "# on standardized data\n",
    "gnb_std = GaussianNB()\n",
    "fit_std = gnb_std.fit(X_train_std, y_train)"
   ]
  },
  {
   "cell_type": "code",
   "execution_count": 41,
   "metadata": {},
   "outputs": [
    {
     "name": "stdout",
     "output_type": "stream",
     "text": [
      "\n",
      "Prediction accuracy for the training dataset\n",
      "0.5635714285714286\n",
      "\n",
      "Prediction accuracy for the test dataset\n",
      "0.5266666666666666\n"
     ]
    }
   ],
   "source": [
    "from sklearn import metrics\n",
    "\n",
    "pred_train = gnb.predict(X_train)\n",
    "\n",
    "print('\\nPrediction accuracy for the training dataset')\n",
    "print(metrics.accuracy_score(y_train, pred_train))\n",
    "\n",
    "pred_test = gnb.predict(X_test)\n",
    "\n",
    "print('\\nPrediction accuracy for the test dataset')\n",
    "print(metrics.accuracy_score(y_test, pred_test))"
   ]
  },
  {
   "cell_type": "code",
   "execution_count": 42,
   "metadata": {},
   "outputs": [
    {
     "name": "stdout",
     "output_type": "stream",
     "text": [
      "\n",
      "Prediction accuracy for the training dataset\n",
      "0.6542857142857142\n",
      "\n",
      "Prediction accuracy for the test dataset\n",
      "0.6\n"
     ]
    }
   ],
   "source": [
    "pred_train_std = gnb_std.predict(X_train_std)\n",
    "\n",
    "print('\\nPrediction accuracy for the training dataset')\n",
    "print(metrics.accuracy_score(y_train, pred_train_std))\n",
    "\n",
    "pred_test_std = gnb_std.predict(X_test_std)\n",
    "\n",
    "print('\\nPrediction accuracy for the test dataset')\n",
    "print(metrics.accuracy_score(y_test, pred_test_std))"
   ]
  }
 ],
 "metadata": {
  "kernelspec": {
   "display_name": "Python 3",
   "language": "python",
   "name": "python3"
  },
  "language_info": {
   "codemirror_mode": {
    "name": "ipython",
    "version": 3
   },
   "file_extension": ".py",
   "mimetype": "text/x-python",
   "name": "python",
   "nbconvert_exporter": "python",
   "pygments_lexer": "ipython3",
   "version": "3.7.1"
  }
 },
 "nbformat": 4,
 "nbformat_minor": 2
}
